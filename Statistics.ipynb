{
 "cells": [
  {
   "cell_type": "markdown",
   "id": "059377bc",
   "metadata": {},
   "source": [
    "1. Scenario: A company wants to analyze the sales performance of its products in different regions. They have collected the following data:\n",
    "   Region A: [10, 15, 12, 8, 14]\n",
    "   Region B: [18, 20, 16, 22, 25]\n",
    "   Calculate the mean sales for each region.\n"
   ]
  },
  {
   "cell_type": "code",
   "execution_count": 3,
   "id": "132d670b",
   "metadata": {},
   "outputs": [
    {
     "name": "stdout",
     "output_type": "stream",
     "text": [
      "11.8\n",
      "20.2\n"
     ]
    }
   ],
   "source": [
    "A= [10, 15, 12, 8, 14]\n",
    "B= [18, 20, 16, 22, 25]\n",
    "#Calculate the mean=Sum of observations/Total number of observations\n",
    "Mean_A=sum(A)/len(A)\n",
    "Mean_B=sum(B)/len(B)\n",
    "print(Mean_A)\n",
    "print(Mean_B)"
   ]
  },
  {
   "cell_type": "markdown",
   "id": "9449e9e3",
   "metadata": {},
   "source": [
    "2. Scenario: A survey is conducted to measure customer satisfaction on a scale of 1 to 5. The data collected is as follows:\n",
    "   [4, 5, 2, 3, 5, 4, 3, 2, 4, 5]\n",
    "   Calculate the mode of the survey responses."
   ]
  },
  {
   "cell_type": "code",
   "execution_count": 4,
   "id": "916e8ff8",
   "metadata": {},
   "outputs": [
    {
     "name": "stdout",
     "output_type": "stream",
     "text": [
      "4\n"
     ]
    }
   ],
   "source": [
    "import statistics\n",
    "A=[4, 5, 2, 3, 5, 4, 3, 2, 4, 5]\n",
    "#Mode means highest frequency values occur in list\n",
    "mode_A = statistics.mode(A)\n",
    "print(mode_A)"
   ]
  },
  {
   "cell_type": "markdown",
   "id": "21e6fe6b",
   "metadata": {},
   "source": [
    "3. Scenario: A company wants to compare the salaries of two departments. The salary data for Department A and Department B are as follows:\n",
    "   Department A: [5000, 6000, 5500, 7000]\n",
    "   Department B: [4500, 5500, 5800, 6000, 5200]\n",
    "   Calculate the median salary for each department."
   ]
  },
  {
   "cell_type": "code",
   "execution_count": 6,
   "id": "146257a5",
   "metadata": {},
   "outputs": [
    {
     "name": "stdout",
     "output_type": "stream",
     "text": [
      "5750.0\n",
      "5500\n"
     ]
    }
   ],
   "source": [
    "import statistics\n",
    "A= [5000, 6000, 5500, 7000]\n",
    "B= [4500, 5500, 5800, 6000, 5200]\n",
    "median_A=statistics.median(A)\n",
    "median_B=statistics.median(B)\n",
    "print(median_A)\n",
    "print(median_B)"
   ]
  },
  {
   "cell_type": "markdown",
   "id": "1d3a293d",
   "metadata": {},
   "source": [
    "4. Scenario: A data analyst wants to determine the variability in the daily stock prices of a company. The data collected is as follows:\n",
    "   [25.5, 24.8, 26.1, 25.3, 24.9]\n",
    "   Calculate the range of the stock prices."
   ]
  },
  {
   "cell_type": "code",
   "execution_count": 7,
   "id": "31515c2f",
   "metadata": {},
   "outputs": [
    {
     "name": "stdout",
     "output_type": "stream",
     "text": [
      "1.3000000000000007\n"
     ]
    }
   ],
   "source": [
    "A=[25.5, 24.8, 26.1, 25.3, 24.9]\n",
    "range_A = max(A) - min(A)\n",
    "print(range_A)"
   ]
  },
  {
   "cell_type": "markdown",
   "id": "9b28645b",
   "metadata": {},
   "source": [
    "5. Scenario: A study is conducted to compare the performance of two different teaching methods. The test scores of the students in each group are as follows:\n",
    "   Group A: [85, 90, 92, 88, 91]\n",
    "   Group B: [82, 88, 90, 86, 87]\n",
    "   Perform a t-test to determine if there is a significant difference in the mean scores between the two groups."
   ]
  },
  {
   "cell_type": "code",
   "execution_count": 8,
   "id": "e1635dc8",
   "metadata": {},
   "outputs": [
    {
     "name": "stdout",
     "output_type": "stream",
     "text": [
      "There is no significant difference in the mean scores between the two groups.\n"
     ]
    }
   ],
   "source": [
    "from scipy import stats\n",
    "A=[85, 90, 92, 88, 91]\n",
    "B=[82, 88, 90, 86, 87]\n",
    "t_statistic, p_value = stats.ttest_ind(A, B)\n",
    "alpha = 0.05 \n",
    "\n",
    "if p_value < alpha:\n",
    "    print(\"There is a significant difference in the mean scores between the two groups.\")\n",
    "else:\n",
    "    print(\"There is no significant difference in the mean scores between the two groups.\")"
   ]
  },
  {
   "cell_type": "markdown",
   "id": "4cb08f3e",
   "metadata": {},
   "source": [
    "6. Scenario: A company wants to analyze the relationship between advertising expenditure and sales. The data collected is as follows:\n",
    "   Advertising Expenditure (in thousands): [10, 15, 12, 8, 14]\n",
    "   Sales (in thousands): [25, 30, 28, 20, 26]\n",
    "   Calculate the correlation coefficient between advertising expenditure and sales."
   ]
  },
  {
   "cell_type": "code",
   "execution_count": 9,
   "id": "758e703e",
   "metadata": {},
   "outputs": [
    {
     "name": "stdout",
     "output_type": "stream",
     "text": [
      "Correlation Coefficient: 0.8757511375750132\n",
      "p-value: 0.05158319418821724\n"
     ]
    }
   ],
   "source": [
    "from scipy import stats\n",
    "A=[10, 15, 12, 8, 14]\n",
    "B=[25, 30, 28, 20, 26]\n",
    "correlation_coefficient, p_value = stats.pearsonr(A, B)\n",
    "print(\"Correlation Coefficient:\", correlation_coefficient)\n",
    "print(\"p-value:\", p_value)"
   ]
  },
  {
   "cell_type": "markdown",
   "id": "8c32bb44",
   "metadata": {},
   "source": [
    "7. Scenario: A survey is conducted to measure the heights of a group of people. The data collected is as follows:\n",
    "   [160, 170, 165, 155, 175, 180, 170]\n",
    "   Calculate the standard deviation of the heights."
   ]
  },
  {
   "cell_type": "code",
   "execution_count": 10,
   "id": "be1ffc7c",
   "metadata": {},
   "outputs": [
    {
     "name": "stdout",
     "output_type": "stream",
     "text": [
      "8.591246929842246\n"
     ]
    }
   ],
   "source": [
    "import statistics\n",
    "A=[160, 170, 165, 155, 175, 180, 170]\n",
    "standard_deviation = statistics.stdev(A)\n",
    "print(standard_deviation)"
   ]
  },
  {
   "cell_type": "markdown",
   "id": "3ce98adb",
   "metadata": {},
   "source": [
    "8. Scenario: A company wants to analyze the relationship between employee tenure and job satisfaction. The data collected is as follows:\n",
    "   Employee Tenure (in years): [2, 3, 5, 4, 6, 2, 4]\n",
    "   Job Satisfaction (on a scale of 1 to 10): [7, 8, 6, 9, 5, 7, 6]\n",
    "   Perform a linear regression analysis to predict job satisfaction based on employee tenure."
   ]
  },
  {
   "cell_type": "code",
   "execution_count": 12,
   "id": "5fbf1efb",
   "metadata": {},
   "outputs": [
    {
     "name": "stdout",
     "output_type": "stream",
     "text": [
      "Slope: -0.4680851063829787\n",
      "Intercept: 8.595744680851062\n",
      "R-squared value: 0.27099664053751393\n",
      "p-value: 0.23095550952297988\n",
      "Standard Error: 0.34333860006713723\n"
     ]
    }
   ],
   "source": [
    "from scipy import stats\n",
    "A=[2, 3, 5, 4, 6, 2, 4]\n",
    "B=[7, 8, 6, 9, 5, 7, 6]\n",
    "slope, intercept, r_value, p_value, std_err = stats.linregress(A, B)\n",
    "\n",
    "print(\"Slope:\", slope)\n",
    "print(\"Intercept:\", intercept)\n",
    "print(\"R-squared value:\", r_value**2)\n",
    "print(\"p-value:\", p_value)\n",
    "print(\"Standard Error:\", std_err)"
   ]
  },
  {
   "cell_type": "markdown",
   "id": "d92a40bd",
   "metadata": {},
   "source": [
    "9. Scenario: A study is conducted to compare the effectiveness of two different medications. The recovery times of the patients in each group are as follows:\n",
    "   Medication A: [10, 12, 14, 11, 13]\n",
    "   Medication B: [15, 17, 16, 14, 18]\n",
    "   Perform an analysis of variance (ANOVA) to determine if there is a significant difference in the mean recovery times between the two medications."
   ]
  },
  {
   "cell_type": "code",
   "execution_count": 13,
   "id": "480a96a2",
   "metadata": {},
   "outputs": [
    {
     "name": "stdout",
     "output_type": "stream",
     "text": [
      "There is a significant difference in the mean recovery times between the two medications.\n"
     ]
    }
   ],
   "source": [
    "from scipy import stats\n",
    "A= [10, 12, 14, 11, 13]\n",
    "B= [15, 17, 16, 14, 18]\n",
    "f_statistic, p_value = stats.f_oneway(A, B)\n",
    "alpha = 0.05 \n",
    "\n",
    "if p_value < alpha:\n",
    "    print(\"There is a significant difference in the mean recovery times between the two medications.\")\n",
    "else:\n",
    "    print(\"There is no significant difference in the mean recovery times between the two medications.\")"
   ]
  },
  {
   "cell_type": "markdown",
   "id": "99f6c326",
   "metadata": {},
   "source": [
    "10. Scenario: A company wants to analyze customer feedback ratings on a scale of 1 to 10. The data collected is as follows:\n",
    "    [8, 9, 7, 6, 8, 10, 9, 8, 7, 8]\n",
    "    Calculate the 75th percentile of the feedback ratings."
   ]
  },
  {
   "cell_type": "code",
   "execution_count": 14,
   "id": "587ad5f8",
   "metadata": {},
   "outputs": [
    {
     "name": "stdout",
     "output_type": "stream",
     "text": [
      "8.75\n"
     ]
    }
   ],
   "source": [
    "import numpy as np\n",
    "A = [8, 9, 7, 6, 8, 10, 9, 8, 7, 8]\n",
    "percentile_75th = np.percentile(A, 75)\n",
    "print(percentile_75th)"
   ]
  },
  {
   "cell_type": "markdown",
   "id": "a8ce72b3",
   "metadata": {},
   "source": [
    "11. Scenario: A quality control department wants to test the weight consistency of a product. The weights of a sample of products are as follows:\n",
    "    [10.2, 9.8, 10.0, 10.5, 10.3, 10.1]\n",
    "    Perform a hypothesis test to determine if the mean weight differs significantly from 10 grams."
   ]
  },
  {
   "cell_type": "code",
   "execution_count": 15,
   "id": "3ce32e84",
   "metadata": {},
   "outputs": [
    {
     "name": "stdout",
     "output_type": "stream",
     "text": [
      "The mean weight does not significantly differ from 10 grams.\n"
     ]
    }
   ],
   "source": [
    "from scipy import stats\n",
    "A=[10.2, 9.8, 10.0, 10.5, 10.3, 10.1]\n",
    "mean_A = np.mean(A)\n",
    "alpha = 0.05  # significance level\n",
    "\n",
    "t_statistic, p_value = stats.ttest_1samp(A, 10)\n",
    "\n",
    "if p_value < alpha:\n",
    "    print(\"The mean weight significantly differs from 10 grams.\")\n",
    "else:\n",
    "    print(\"The mean weight does not significantly differ from 10 grams.\")"
   ]
  },
  {
   "cell_type": "markdown",
   "id": "ec474f72",
   "metadata": {},
   "source": [
    "12. Scenario: A company wants to analyze the click-through rates of two different website designs. The number of clicks for each design is as follows:\n",
    "    Design A: [100, 120, 110, 90, 95]\n",
    "    Design B: [80, 85, 90, 95, 100]\n",
    "    Perform a chi-square test to determine if there is a significant difference in the click-through rates between the two designs."
   ]
  },
  {
   "cell_type": "code",
   "execution_count": 16,
   "id": "b62e8786",
   "metadata": {},
   "outputs": [
    {
     "name": "stdout",
     "output_type": "stream",
     "text": [
      "There is no significant difference in the click-through rates between the two designs.\n"
     ]
    }
   ],
   "source": [
    "A=[100, 120, 110, 90, 95]\n",
    "B=[80, 85, 90, 95, 100]\n",
    "observed = np.array([A, B])\n",
    "\n",
    "chi2, p_value, _, _ = stats.chi2_contingency(observed)\n",
    "\n",
    "alpha = 0.05  # significance level\n",
    "\n",
    "if p_value < alpha:\n",
    "    print(\"There is a significant difference in the click-through rates between the two designs.\")\n",
    "else:\n",
    "    print(\"There is no significant difference in the click-through rates between the two designs.\")"
   ]
  },
  {
   "cell_type": "markdown",
   "id": "a5c4375d",
   "metadata": {},
   "source": [
    "13. Scenario: A survey is conducted to measure customer satisfaction with a product on a scale of 1 to 10. The data collected is as follows:\n",
    "    [7, 9, 6, 8, 10, 7, 8, 9, 7, 8]\n",
    "    Calculate the 95% confidence interval for the population mean satisfaction score."
   ]
  },
  {
   "cell_type": "code",
   "execution_count": 17,
   "id": "6d025647",
   "metadata": {},
   "outputs": [
    {
     "name": "stdout",
     "output_type": "stream",
     "text": [
      "95% Confidence Interval: (7.043561120599888, 8.756438879400113)\n"
     ]
    }
   ],
   "source": [
    "A=[7, 9, 6, 8, 10, 7, 8, 9, 7, 8]\n",
    "confidence_level = 0.95 \n",
    "\n",
    "sample_mean = np.mean(A)\n",
    "sample_standard_deviation = np.std(A, ddof=1) \n",
    "\n",
    "sample_size = len(A)\n",
    "t_critical = stats.t.ppf((1 + confidence_level) / 2, df=sample_size-1)\n",
    "\n",
    "margin_of_error = t_critical * (sample_standard_deviation / np.sqrt(sample_size))\n",
    "confidence_interval = (sample_mean - margin_of_error, sample_mean + margin_of_error)\n",
    "\n",
    "print(\"95% Confidence Interval:\", confidence_interval)"
   ]
  },
  {
   "cell_type": "markdown",
   "id": "286510bb",
   "metadata": {},
   "source": [
    "14. Scenario: A company wants to analyze the effect of temperature on product performance. The data collected is as follows:\n",
    "    Temperature (in degrees Celsius): [20, 22, 23, 19, 21]\n",
    "    Performance (on a scale of 1 to 10): [8, 7, 9, 6, 8]\n",
    "    Perform a simple linear regression to predict performance based on temperature."
   ]
  },
  {
   "cell_type": "code",
   "execution_count": 18,
   "id": "eca8bfbc",
   "metadata": {},
   "outputs": [
    {
     "name": "stdout",
     "output_type": "stream",
     "text": [
      "Slope: 0.5\n",
      "Intercept: -2.9000000000000004\n",
      "R-squared value: 0.4807692307692307\n",
      "p-value: 0.19417134561205843\n",
      "Standard Error: 0.30000000000000004\n"
     ]
    }
   ],
   "source": [
    "A=[20, 22, 23, 19, 21]\n",
    "B=[8, 7, 9, 6, 8]\n",
    "slope, intercept, r_value, p_value, std_err = stats.linregress(A,B)\n",
    "\n",
    "print(\"Slope:\", slope)\n",
    "print(\"Intercept:\", intercept)\n",
    "print(\"R-squared value:\", r_value**2)\n",
    "print(\"p-value:\", p_value)\n",
    "print(\"Standard Error:\", std_err)"
   ]
  },
  {
   "cell_type": "markdown",
   "id": "a6324833",
   "metadata": {},
   "source": [
    "15. Scenario: A study is conducted to compare the preferences of two groups of participants. The preferences are measured on a Likert scale from 1 to 5. The data collected is as follows:\n",
    "    Group A: [4, 3, 5, 2, 4]\n",
    "    Group B: [3, 2, 4, 3, 3]\n",
    "    Perform a Mann-Whitney U test to determine if there is a significant difference in the median preferences between the two groups."
   ]
  },
  {
   "cell_type": "code",
   "execution_count": 19,
   "id": "9c3acf09",
   "metadata": {},
   "outputs": [
    {
     "name": "stdout",
     "output_type": "stream",
     "text": [
      "There is no significant difference in the median preferences between the two groups.\n"
     ]
    }
   ],
   "source": [
    "A=[4, 3, 5, 2, 4]\n",
    "B=[3, 2, 4, 3, 3]\n",
    "u_statistic, p_value = stats.mannwhitneyu(A, B, alternative='two-sided')\n",
    "\n",
    "alpha = 0.05 \n",
    "\n",
    "if p_value < alpha:\n",
    "    print(\"There is a significant difference in the median preferences between the two groups.\")\n",
    "else:\n",
    "    print(\"There is no significant difference in the median preferences between the two groups.\")"
   ]
  },
  {
   "cell_type": "markdown",
   "id": "56d19194",
   "metadata": {},
   "source": [
    "16. Scenario: A company wants to analyze the distribution of customer ages. The data collected is as follows:\n",
    "    [25, 30, 35, 40, 45, 50, 55, 60, 65, 70]\n",
    "    Calculate the interquartile range (IQR) of the ages."
   ]
  },
  {
   "cell_type": "code",
   "execution_count": 20,
   "id": "bc9a367c",
   "metadata": {},
   "outputs": [
    {
     "name": "stdout",
     "output_type": "stream",
     "text": [
      "22.5\n"
     ]
    }
   ],
   "source": [
    "A=[25, 30, 35, 40, 45, 50, 55, 60, 65, 70]\n",
    "Q1 = np.percentile(A, 25)\n",
    "Q3 = np.percentile(A, 75)\n",
    "\n",
    "interquartile_range = Q3 - Q1\n",
    "print(interquartile_range)"
   ]
  },
  {
   "cell_type": "markdown",
   "id": "a49f2692",
   "metadata": {},
   "source": [
    "17. Scenario: A study is conducted to compare the performance of three different machine learning algorithms. The accuracy scores for each algorithm are as follows:\n",
    "    Algorithm A: [0.85, 0.80, 0.82, 0.87, 0.83]\n",
    "    Algorithm B: [0.78, 0.82, 0.84, 0.80, 0.79]\n",
    "    Algorithm C: [0.90, 0.88, 0.89, 0.86, 0.87]\n",
    "    Perform a Kruskal-Wallis test to determine if there is a significant difference in the median accuracy scores between the algorithms."
   ]
  },
  {
   "cell_type": "code",
   "execution_count": 21,
   "id": "776d774c",
   "metadata": {},
   "outputs": [
    {
     "name": "stdout",
     "output_type": "stream",
     "text": [
      "There is a significant difference in the median accuracy scores between the algorithms.\n"
     ]
    }
   ],
   "source": [
    "A=[0.85, 0.80, 0.82, 0.87, 0.83]\n",
    "B=[0.78, 0.82, 0.84, 0.80, 0.79]\n",
    "C=[0.90, 0.88, 0.89, 0.86, 0.87]\n",
    "H, p_value = stats.kruskal(A, B, C)\n",
    "\n",
    "alpha = 0.05  # significance level\n",
    "\n",
    "if p_value < alpha:\n",
    "    print(\"There is a significant difference in the median accuracy scores between the algorithms.\")\n",
    "else:\n",
    "    print(\"There is no significant difference in the median accuracy scores between the algorithms.\")"
   ]
  },
  {
   "cell_type": "markdown",
   "id": "bb4fcaf4",
   "metadata": {},
   "source": [
    "18. Scenario: A company wants to analyze the effect of price on sales. The data collected is as follows:\n",
    "    Price (in dollars): [10, 15, 12, 8, 14]\n",
    "    Sales: [100, 80, 90, 110, 95]\n",
    "    Perform a simple linear regression to predict sales based on price."
   ]
  },
  {
   "cell_type": "code",
   "execution_count": 23,
   "id": "0f14e15b",
   "metadata": {},
   "outputs": [
    {
     "name": "stdout",
     "output_type": "stream",
     "text": [
      "Slope: -3.506097560975609\n",
      "Intercept: 136.3719512195122\n",
      "R-squared value: 0.8064024390243901\n",
      "p-value: 0.03850178234753776\n",
      "Standard Error: 0.9918303504036147\n"
     ]
    }
   ],
   "source": [
    "A=[10, 15, 12, 8, 14]\n",
    "B=[100, 80, 90, 110, 95]\n",
    "slope, intercept, r_value, p_value, std_err = stats.linregress(A,B)\n",
    "\n",
    "print(\"Slope:\", slope)\n",
    "print(\"Intercept:\", intercept)\n",
    "print(\"R-squared value:\", r_value**2)\n",
    "print(\"p-value:\", p_value)\n",
    "print(\"Standard Error:\", std_err)"
   ]
  },
  {
   "cell_type": "markdown",
   "id": "068653b3",
   "metadata": {},
   "source": [
    "19. Scenario: A survey is conducted to measure the satisfaction levels of customers with a new product. The data collected is as follows:\n",
    "    [7, 8, 9, 6, 8, 7, 9, 7, 8, 7]\n",
    "    Calculate the standard error of the mean satisfaction score."
   ]
  },
  {
   "cell_type": "code",
   "execution_count": 24,
   "id": "91aad685",
   "metadata": {},
   "outputs": [
    {
     "name": "stdout",
     "output_type": "stream",
     "text": [
      "Standard Error of the Mean: 0.30550504633038933\n"
     ]
    }
   ],
   "source": [
    "A=[7, 8, 9, 6, 8, 7, 9, 7, 8, 7]\n",
    "sample_size = len(A)\n",
    "\n",
    "standard_deviation = np.std(A, ddof=1)\n",
    "standard_error = standard_deviation / np.sqrt(sample_size)\n",
    "\n",
    "print(\"Standard Error of the Mean:\", standard_error)"
   ]
  },
  {
   "cell_type": "markdown",
   "id": "fe1de9d3",
   "metadata": {},
   "source": [
    "20. Scenario: A company wants to analyze the relationship between advertising expenditure and sales. The data collected is as follows:\n",
    "    Advertising Expenditure (in thousands): [10, 15, 12, 8, 14]\n",
    "    Sales (in thousands): [25, 30, 28, 20, 26]\n",
    "    Perform a multiple regression analysis to predict sales based on advertising expenditure."
   ]
  },
  {
   "cell_type": "code",
   "execution_count": 25,
   "id": "a301c48f",
   "metadata": {},
   "outputs": [
    {
     "name": "stdout",
     "output_type": "stream",
     "text": [
      "                            OLS Regression Results                            \n",
      "==============================================================================\n",
      "Dep. Variable:                      y   R-squared:                       0.966\n",
      "Model:                            OLS   Adj. R-squared:                  0.931\n",
      "Method:                 Least Squares   F-statistic:                     28.14\n",
      "Date:                Mon, 10 Jul 2023   Prob (F-statistic):             0.0343\n",
      "Time:                        12:41:43   Log-Likelihood:                -10.177\n",
      "No. Observations:                   5   AIC:                             26.35\n",
      "Df Residuals:                       2   BIC:                             25.18\n",
      "Df Model:                           2                                         \n",
      "Covariance Type:            nonrobust                                         \n",
      "==============================================================================\n",
      "                 coef    std err          t      P>|t|      [0.025      0.975]\n",
      "------------------------------------------------------------------------------\n",
      "const         33.7011     11.602      2.905      0.101     -16.219      83.622\n",
      "x1             0.6794      1.059      0.641      0.587      -3.879       5.238\n",
      "x2             2.4528      0.805      3.047      0.093      -1.011       5.917\n",
      "==============================================================================\n",
      "Omnibus:                          nan   Durbin-Watson:                   2.799\n",
      "Prob(Omnibus):                    nan   Jarque-Bera (JB):                0.641\n",
      "Skew:                           0.253   Prob(JB):                        0.726\n",
      "Kurtosis:                       1.320   Cond. No.                         255.\n",
      "==============================================================================\n",
      "\n",
      "Notes:\n",
      "[1] Standard Errors assume that the covariance matrix of the errors is correctly specified.\n"
     ]
    },
    {
     "name": "stderr",
     "output_type": "stream",
     "text": [
      "C:\\Users\\Admin\\anaconda3\\lib\\site-packages\\statsmodels\\stats\\stattools.py:74: ValueWarning: omni_normtest is not valid with less than 8 observations; 5 samples were given.\n",
      "  warn(\"omni_normtest is not valid with less than 8 observations; %i \"\n"
     ]
    }
   ],
   "source": [
    "import statsmodels.api as sm\n",
    "\n",
    "A=[10, 15, 12, 8, 14]\n",
    "B=[25, 30, 28, 20, 26]\n",
    "\n",
    "advertising_expenditure = np.array([A, B]).T\n",
    "advertising_expenditure = sm.add_constant(advertising_expenditure)\n",
    "\n",
    "# Create the response variable\n",
    "sales = np.array([100, 120, 110, 90, 105])\n",
    "\n",
    "# Fit the multiple regression model\n",
    "model = sm.OLS(sales, advertising_expenditure)\n",
    "results = model.fit()\n",
    "\n",
    "# Print the summary of the regression analysis\n",
    "print(results.summary())\n"
   ]
  }
 ],
 "metadata": {
  "kernelspec": {
   "display_name": "Python 3 (ipykernel)",
   "language": "python",
   "name": "python3"
  },
  "language_info": {
   "codemirror_mode": {
    "name": "ipython",
    "version": 3
   },
   "file_extension": ".py",
   "mimetype": "text/x-python",
   "name": "python",
   "nbconvert_exporter": "python",
   "pygments_lexer": "ipython3",
   "version": "3.9.12"
  }
 },
 "nbformat": 4,
 "nbformat_minor": 5
}
